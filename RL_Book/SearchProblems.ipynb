{
  "nbformat": 4,
  "nbformat_minor": 0,
  "metadata": {
    "colab": {
      "provenance": [],
      "authorship_tag": "ABX9TyOpkpSXLplmhXlyvIwj/Gdl"
    },
    "kernelspec": {
      "name": "python3",
      "display_name": "Python 3"
    },
    "language_info": {
      "name": "python"
    }
  },
  "cells": [
    {
      "cell_type": "code",
      "execution_count": 1,
      "metadata": {
        "id": "CK9RAMzgUE7d"
      },
      "outputs": [],
      "source": [
        "class TransportationProblem:\n",
        "  \"\"\"\n",
        "  Defines a problem to get from state 1 to state N,\n",
        "  where a walk of 1 step cost 1 unit and a tram from n to 2n costs 2 units.\n",
        "  Args:\n",
        "    N: the final state to get to\n",
        "  Returns:\n",
        "    None\n",
        "  \"\"\"\n",
        "  def __init__(self, N: int):\n",
        "    self.N = N\n",
        "\n",
        "  def startstate(self):\n",
        "    return 1\n",
        "\n",
        "  def isEnd(self, s: int):\n",
        "    return s == self.N\n",
        "\n",
        "  def succAndCost(self, s: int):\n",
        "    \"\"\"\n",
        "    Takes a state s, returns a list of tuples of (mode, successorstate, cost)\n",
        "    from that state.\n",
        "    \"\"\"\n",
        "    result = []\n",
        "    if s+1 <= self.N:\n",
        "      result.append((\"walk\", s+1, 1))\n",
        "    if 2*s <= self.N:\n",
        "      result.append((\"tram\", 2*s, 2))\n",
        "    return result"
      ]
    },
    {
      "cell_type": "code",
      "source": [
        "def BackTrackingSearch(problem, state: int=1):\n",
        "  bestsolution = {\n",
        "      \"cost\": 1000,\n",
        "      \"history\": []\n",
        "  }\n",
        "  def recurse(current_state, current_cost, path):\n",
        "    if problem.isEnd(current_state): #at terminal solution\n",
        "      if current_cost <= bestsolution[\"cost\"]:\n",
        "        bestsolution[\"cost\"] = current_cost\n",
        "        bestsolution[\"history\"] = path\n",
        "      return\n",
        "    for mode, new_state, added_cost in problem.succAndCost(current_state):\n",
        "      recurse(new_state, current_cost+added_cost, path+[(mode, new_state, added_cost)])\n",
        "  recurse(state, 0, [])\n",
        "  return bestsolution"
      ],
      "metadata": {
        "id": "xDXZUmLsAg6W"
      },
      "execution_count": 2,
      "outputs": []
    },
    {
      "cell_type": "code",
      "source": [
        "def DepthFirstSearch(problem, state: int=1):\n",
        "  def recurse(current_state, current_cost, path):\n",
        "    if problem.isEnd(current_state):\n",
        "      return {\"cost\": current_cost, \"history\": path}\n",
        "    for mode, new_state, added_cost in problem.succAndCost(current_state):\n",
        "      return recurse(new_state, current_cost + added_cost, path + [(mode, new_state, added_cost)])\n",
        "  return recurse(state, 0, [])"
      ],
      "metadata": {
        "id": "YRfAOSiotvm9"
      },
      "execution_count": 9,
      "outputs": []
    },
    {
      "cell_type": "code",
      "source": [
        "print(BackTrackingSearch(TransportationProblem(15)))\n",
        "print(DepthFirstSearch(TransportationProblem(15)))"
      ],
      "metadata": {
        "colab": {
          "base_uri": "https://localhost:8080/"
        },
        "id": "DWkw8RJotv5L",
        "outputId": "9418fbb4-0afa-42ac-b6e4-97bdb72bef64"
      },
      "execution_count": 11,
      "outputs": [
        {
          "output_type": "stream",
          "name": "stdout",
          "text": [
            "{'cost': 8, 'history': [('walk', 2, 1), ('walk', 3, 1), ('tram', 6, 2), ('walk', 7, 1), ('tram', 14, 2), ('walk', 15, 1)]}\n",
            "{'cost': 14, 'history': [('walk', 2, 1), ('walk', 3, 1), ('walk', 4, 1), ('walk', 5, 1), ('walk', 6, 1), ('walk', 7, 1), ('walk', 8, 1), ('walk', 9, 1), ('walk', 10, 1), ('walk', 11, 1), ('walk', 12, 1), ('walk', 13, 1), ('walk', 14, 1), ('walk', 15, 1)]}\n"
          ]
        }
      ]
    },
    {
      "cell_type": "code",
      "source": [],
      "metadata": {
        "id": "HYrX-XlV8HdH"
      },
      "execution_count": null,
      "outputs": []
    }
  ]
}