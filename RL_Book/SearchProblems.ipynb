{
  "nbformat": 4,
  "nbformat_minor": 0,
  "metadata": {
    "colab": {
      "provenance": [],
      "authorship_tag": "ABX9TyN5nIPLJGbARaAN3+UNq+y3"
    },
    "kernelspec": {
      "name": "python3",
      "display_name": "Python 3"
    },
    "language_info": {
      "name": "python"
    }
  },
  "cells": [
    {
      "cell_type": "code",
      "execution_count": 1,
      "metadata": {
        "id": "CK9RAMzgUE7d"
      },
      "outputs": [],
      "source": [
        "class TransportationProblem:\n",
        "  def __init__(self, N: int):\n",
        "    self.N = N\n",
        "\n",
        "  def startstate(self):\n",
        "    return 1\n",
        "\n",
        "  def isEnd(self, s):\n",
        "    return s == self.N\n",
        "\n",
        "  def succAndCost(self, s):\n",
        "    result = []\n",
        "    if s+1 <= self.N:\n",
        "      result.append((\"walk\", s+1, 1))\n",
        "    if 2*s <= self.N:\n",
        "      result.append((\"tram\", 2*s, 2))\n",
        "    return result"
      ]
    },
    {
      "cell_type": "code",
      "source": [
        "def backtrackingSearch(problem):\n",
        "  bestsolution = {\n",
        "      \"cost\": 1000,\n",
        "      \"history\": []\n",
        "  }\n",
        "  def recurse(state, history, totalcost):\n",
        "    if problem.isEnd(state):\n",
        "      if totalcost <= bestsolution[\"cost\"]:\n",
        "        bestsolution[\"cost\"] = totalcost\n",
        "        bestsolution[\"history\"] = history\n",
        "      return\n",
        "    for action, newstate, cost in problem.succAndCost(state):\n",
        "      recurse(newstate, history + [(action, newstate, cost)], totalcost+cost)\n",
        "  recurse(problem.startstate(), [], 0)\n",
        "  return bestsolution"
      ],
      "metadata": {
        "id": "U0Bs5C_VGhmK"
      },
      "execution_count": 6,
      "outputs": []
    },
    {
      "cell_type": "code",
      "source": [
        "problem = TransportationProblem(20)\n",
        "backtrackingSearch(problem)"
      ],
      "metadata": {
        "colab": {
          "base_uri": "https://localhost:8080/"
        },
        "id": "pDbwe8-sVYXU",
        "outputId": "dfc22eb4-fc96-4ffe-e3bf-9ac40fdf762c"
      },
      "execution_count": 8,
      "outputs": [
        {
          "output_type": "execute_result",
          "data": {
            "text/plain": [
              "{'cost': 8,\n",
              " 'history': [('walk', 2, 1),\n",
              "  ('tram', 4, 2),\n",
              "  ('walk', 5, 1),\n",
              "  ('tram', 10, 2),\n",
              "  ('tram', 20, 2)]}"
            ]
          },
          "metadata": {},
          "execution_count": 8
        }
      ]
    }
  ]
}