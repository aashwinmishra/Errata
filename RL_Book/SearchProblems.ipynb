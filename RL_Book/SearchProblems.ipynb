{
  "nbformat": 4,
  "nbformat_minor": 0,
  "metadata": {
    "colab": {
      "provenance": [],
      "authorship_tag": "ABX9TyN9KbwZtJna1w2r5OWc2Vcp"
    },
    "kernelspec": {
      "name": "python3",
      "display_name": "Python 3"
    },
    "language_info": {
      "name": "python"
    }
  },
  "cells": [
    {
      "cell_type": "code",
      "execution_count": 12,
      "metadata": {
        "id": "CK9RAMzgUE7d"
      },
      "outputs": [],
      "source": [
        "class TransportationProblem:\n",
        "  \"\"\"\n",
        "  Defines a problem to get from state 1 to state N,\n",
        "  where a walk of 1 step cost 1 unit and a tram from n to 2n costs 2 units.\n",
        "  Args:\n",
        "    N: the final state to get to\n",
        "  Returns:\n",
        "    None\n",
        "  \"\"\"\n",
        "  def __init__(self, N: int):\n",
        "    self.N = N\n",
        "\n",
        "  def startstate(self):\n",
        "    return 1\n",
        "\n",
        "  def isEnd(self, s: int):\n",
        "    return s == self.N\n",
        "\n",
        "  def succAndCost(self, s: int):\n",
        "    \"\"\"\n",
        "    Takes a state s, returns a list of tuples of (mode, successorstate, cost)\n",
        "    from that state.\n",
        "    \"\"\"\n",
        "    result = []\n",
        "    if s+1 <= self.N:\n",
        "      result.append((\"walk\", s+1, 1))\n",
        "    if 2*s <= self.N:\n",
        "      result.append((\"tram\", 2*s, 2))\n",
        "    return result"
      ]
    },
    {
      "cell_type": "code",
      "source": [
        "def BackTrackingSearch(problem, state: int=1):\n",
        "  bestsolution = {\n",
        "      \"cost\": 1000,\n",
        "      \"history\": []\n",
        "  }\n",
        "  def recurse(current_state, current_cost, path):\n",
        "    if problem.isEnd(current_state): #at terminal solution\n",
        "      if current_cost <= bestsolution[\"cost\"]:\n",
        "        bestsolution[\"cost\"] = current_cost\n",
        "        bestsolution[\"history\"] = path\n",
        "      return\n",
        "    for mode, new_state, added_cost in problem.succAndCost(current_state):\n",
        "      recurse(new_state, current_cost+added_cost, path+[(mode, new_state, added_cost)])\n",
        "  recurse(state, 0, [])\n",
        "  return bestsolution"
      ],
      "metadata": {
        "id": "xDXZUmLsAg6W"
      },
      "execution_count": 13,
      "outputs": []
    },
    {
      "cell_type": "code",
      "source": [
        "def DepthFirstSearch(problem, state: int=1):\n",
        "  def recurse(current_state, current_cost, path):\n",
        "    if problem.isEnd(current_state):\n",
        "      return {\"cost\": current_cost, \"history\": path}\n",
        "    for mode, new_state, added_cost in problem.succAndCost(current_state):\n",
        "      return recurse(new_state, current_cost + added_cost, path + [(mode, new_state, added_cost)])\n",
        "  return recurse(state, 0, [])"
      ],
      "metadata": {
        "id": "YRfAOSiotvm9"
      },
      "execution_count": 14,
      "outputs": []
    },
    {
      "cell_type": "code",
      "source": [
        "def DynamicProgramming(problem, state: int=1):\n",
        "  cache = {problem.N: 0}\n",
        "\n",
        "  def FutureCost(state):\n",
        "    if state in cache:\n",
        "      return cache[state]\n",
        "    result = min(cost + FutureCost(new_state) for action, new_state, cost in problem.succAndCost(state))\n",
        "    cache[state] = result\n",
        "    return result\n",
        "\n",
        "  return FutureCost(state)"
      ],
      "metadata": {
        "id": "tUZbXFun6_Qj"
      },
      "execution_count": 20,
      "outputs": []
    },
    {
      "cell_type": "code",
      "source": [
        "# print(BackTrackingSearch(TransportationProblem(25)))\n",
        "# print(DepthFirstSearch(TransportationProblem(25)))\n",
        "print(DynamicProgramming(TransportationProblem(500000)))"
      ],
      "metadata": {
        "colab": {
          "base_uri": "https://localhost:8080/"
        },
        "id": "DWkw8RJotv5L",
        "outputId": "eb4fde14-d48e-406e-eddc-ac65a832010f"
      },
      "execution_count": 30,
      "outputs": [
        {
          "output_type": "stream",
          "name": "stdout",
          "text": [
            "41\n"
          ]
        }
      ]
    },
    {
      "cell_type": "code",
      "source": [],
      "metadata": {
        "id": "HYrX-XlV8HdH"
      },
      "execution_count": null,
      "outputs": []
    }
  ]
}