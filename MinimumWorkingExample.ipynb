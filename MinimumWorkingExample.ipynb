{
 "cells": [
  {
   "cell_type": "code",
   "execution_count": 36,
   "metadata": {},
   "outputs": [],
   "source": [
    "import scipy.io\n",
    "from os import listdir\n",
    "from os.path import isfile, join\n",
    "import pandas as pd\n",
    "\n",
    "from collections import defaultdict\n",
    "\n",
    "\n",
    "from scipy.stats import spearmanr\n",
    "from scipy.cluster import hierarchy\n",
    "\n",
    "from sklearn.datasets import load_breast_cancer\n",
    "from sklearn.ensemble import RandomForestClassifier\n",
    "from sklearn.model_selection import train_test_split\n",
    "\n",
    "import numpy as np\n",
    "import matplotlib.pyplot as plt\n",
    "%matplotlib inline\n",
    "\n",
    "from sklearn.preprocessing import MinMaxScaler\n",
    "from mpl_toolkits.mplot3d import Axes3D\n",
    "\n",
    "import seaborn as sns\n",
    "\n",
    "\n",
    "from sklearn.dummy import DummyRegressor\n",
    "from sklearn.isotonic import IsotonicRegression\n",
    "from sklearn.metrics import mean_absolute_error, make_scorer\n",
    "from sklearn.model_selection import cross_val_score\n",
    "from sklearn.model_selection import cross_val_predict\n",
    "\n",
    "import tensorflow as tf\n",
    "import shap\n",
    "from tensorflow.keras import Sequential\n",
    "from tensorflow.keras.layers import Dense, BatchNormalization\n",
    "from tensorflow.keras.layers import  Dropout\n",
    "from tensorflow.keras.optimizers import Adam"
   ]
  },
  {
   "cell_type": "markdown",
   "metadata": {},
   "source": [
    "### 1. Data Loading and Preprocessing"
   ]
  },
  {
   "cell_type": "code",
   "execution_count": 37,
   "metadata": {},
   "outputs": [],
   "source": [
    "x=np.load('scalar_in.npy')\n",
    "y=np.load('scalar_out_OTR2.npy')"
   ]
  },
  {
   "cell_type": "code",
   "execution_count": 38,
   "metadata": {},
   "outputs": [
    {
     "data": {
      "text/plain": [
       "((32607, 13), (32607, 14))"
      ]
     },
     "execution_count": 38,
     "metadata": {},
     "output_type": "execute_result"
    }
   ],
   "source": [
    "x.shape, y.shape"
   ]
  },
  {
   "cell_type": "code",
   "execution_count": 39,
   "metadata": {},
   "outputs": [
    {
     "name": "stdout",
     "output_type": "stream",
     "text": [
      "[0. 0. 0. 0. 0. 0. 0. 0. 0. 0. 0. 0. 0.]\n",
      "[1. 1. 1. 1. 1. 1. 1. 1. 1. 1. 1. 1. 1.]\n"
     ]
    }
   ],
   "source": [
    "scaler = MinMaxScaler()\n",
    "scaler.fit(x)\n",
    "X=scaler.transform(x)\n",
    "print(np.min(X,axis=0))\n",
    "print(np.max(X,axis=0))"
   ]
  },
  {
   "cell_type": "code",
   "execution_count": 40,
   "metadata": {},
   "outputs": [],
   "source": [
    "target_names=['n_particle', 'mean_gamma', 'sigma_gamma','norm_emit_x', 'norm_emit_y',\n",
    "'sigma_x', 'sigma_y', 'sigma_z','sigma_px', 'sigma_py', 'sigma_pz',   \n",
    "'mean_z',  'higher_order_energy_spread','cov_x__px', 'cov_z__pz', 'cov_y__py']"
   ]
  },
  {
   "cell_type": "code",
   "execution_count": 41,
   "metadata": {},
   "outputs": [
    {
     "name": "stdout",
     "output_type": "stream",
     "text": [
      "(0, ' -- ', 'distgen:r_dist:sigma_xy:value')\n",
      "(1, ' -- ', 'distgen:t_dist:length:value')\n",
      "(2, ' -- ', 'SOL1:solenoid_field_scale')\n",
      "(3, ' -- ', 'CQ01:b1_gradient')\n",
      "(4, ' -- ', 'SQ01:b1_gradient')\n",
      "(5, ' -- ', 'L0A_phase:dtheta0_deg')\n",
      "(6, ' -- ', 'L0B_phase:dtheta0_deg')\n",
      "(7, ' -- ', 'QA01:b1_gradient')\n",
      "(8, ' -- ', 'QA02:b1_gradient')\n",
      "(9, ' -- ', 'QE01:b1_gradient')\n",
      "(10, ' -- ', 'QE02:b1_gradient')\n",
      "(11, ' -- ', 'QE03:b1_gradient')\n",
      "(12, ' -- ', 'QE04:b1_gradient')\n"
     ]
    }
   ],
   "source": [
    "feature_names=['distgen:r_dist:sigma_xy:value',\n",
    " 'distgen:t_dist:length:value',\n",
    " 'SOL1:solenoid_field_scale',\n",
    " 'CQ01:b1_gradient',\n",
    " 'SQ01:b1_gradient',\n",
    " 'L0A_phase:dtheta0_deg',\n",
    " 'L0B_phase:dtheta0_deg',\n",
    " 'QA01:b1_gradient',\n",
    " 'QA02:b1_gradient',\n",
    " 'QE01:b1_gradient',\n",
    " 'QE02:b1_gradient',\n",
    " 'QE03:b1_gradient',\n",
    " 'QE04:b1_gradient']\n",
    "\n",
    "for i in range(13):\n",
    "    print(i, \" -- \", feature_names[i])"
   ]
  },
  {
   "cell_type": "markdown",
   "metadata": {},
   "source": [
    "This is where we specify the target. The targets, names and indices are outlined above.\n",
    "In this example, we are illustrating the flow with the (log) of the GM of the emittances. "
   ]
  },
  {
   "cell_type": "code",
   "execution_count": 42,
   "metadata": {},
   "outputs": [
    {
     "name": "stdout",
     "output_type": "stream",
     "text": [
      "-14.420605960308079\n",
      "-10.35463706794712\n",
      "-13.900184295746097\n"
     ]
    }
   ],
   "source": [
    "y_target=0.5*(np.log(y[:,3])+np.log(y[:,4]))\n",
    "print(np.min(y_target,axis=0))\n",
    "print(np.max(y_target,axis=0))\n",
    "print(np.mean(y_target,axis=0))"
   ]
  },
  {
   "cell_type": "code",
   "execution_count": 43,
   "metadata": {},
   "outputs": [
    {
     "data": {
      "text/plain": [
       "((32607, 13), (32607,))"
      ]
     },
     "execution_count": 43,
     "metadata": {},
     "output_type": "execute_result"
    }
   ],
   "source": [
    "X.shape, y_target.shape"
   ]
  },
  {
   "cell_type": "code",
   "execution_count": 44,
   "metadata": {},
   "outputs": [
    {
     "data": {
      "text/plain": [
       "((26085, 13), (26085,), (6522, 13), (6522,))"
      ]
     },
     "execution_count": 44,
     "metadata": {},
     "output_type": "execute_result"
    }
   ],
   "source": [
    "X_train, X_val, Y_train, Y_val = train_test_split(X, y_target, test_size=0.2, random_state=42)\n",
    "\n",
    "X_train.shape, Y_train.shape, X_val.shape, Y_val.shape"
   ]
  },
  {
   "cell_type": "markdown",
   "metadata": {},
   "source": [
    "### 2.a Model Specification and Training"
   ]
  },
  {
   "cell_type": "code",
   "execution_count": 45,
   "metadata": {},
   "outputs": [
    {
     "name": "stdout",
     "output_type": "stream",
     "text": [
      "_________________________________________________________________\n",
      "Layer (type)                 Output Shape              Param #   \n",
      "=================================================================\n",
      "dense (Dense)                (None, 20)                280       \n",
      "_________________________________________________________________\n",
      "dense_1 (Dense)              (None, 20)                420       \n",
      "_________________________________________________________________\n",
      "dense_2 (Dense)              (None, 20)                420       \n",
      "_________________________________________________________________\n",
      "dense_3 (Dense)              (None, 20)                420       \n",
      "_________________________________________________________________\n",
      "dense_4 (Dense)              (None, 20)                420       \n",
      "_________________________________________________________________\n",
      "dense_5 (Dense)              (None, 20)                420       \n",
      "_________________________________________________________________\n",
      "dense_6 (Dense)              (None, 20)                420       \n",
      "_________________________________________________________________\n",
      "dense_7 (Dense)              (None, 20)                420       \n",
      "_________________________________________________________________\n",
      "dense_8 (Dense)              (None, 1)                 21        \n",
      "=================================================================\n",
      "Total params: 3,241\n",
      "Trainable params: 3,241\n",
      "Non-trainable params: 0\n",
      "_________________________________________________________________\n"
     ]
    }
   ],
   "source": [
    "model=Sequential()\n",
    "model.add(Dense(20, activation='relu',input_shape=(13,)))\n",
    "model.add(Dense(20, activation='relu'))\n",
    "model.add(Dense(20, activation='relu'))\n",
    "model.add(Dense(20, activation='relu'))\n",
    "model.add(Dense(20, activation='relu'))\n",
    "model.add(Dense(20, activation='relu'))\n",
    "model.add(Dense(20, activation='relu'))\n",
    "model.add(Dense(20, activation='relu'))\n",
    "model.add(Dense(1))\n",
    "\n",
    "model.summary()"
   ]
  },
  {
   "cell_type": "code",
   "execution_count": 46,
   "metadata": {},
   "outputs": [],
   "source": [
    "# Batch size\n",
    "BATCH_SIZE = 128\n",
    "\n",
    "# Number of training epochs\n",
    "EPOCHS = 10000\n",
    "\n",
    "# Learning rate\n",
    "L_RATE = 1e-5"
   ]
  },
  {
   "cell_type": "code",
   "execution_count": 47,
   "metadata": {},
   "outputs": [],
   "source": [
    "model.compile(tf.keras.optimizers.Adam(lr=L_RATE),loss='mse')"
   ]
  },
  {
   "cell_type": "code",
   "execution_count": null,
   "metadata": {},
   "outputs": [],
   "source": [
    "%%time\n",
    "history = model.fit(X_train, Y_train,\n",
    "                    batch_size=BATCH_SIZE,\n",
    "                    epochs=EPOCHS,\n",
    "                    validation_data=(X_val,Y_val))"
   ]
  },
  {
   "cell_type": "code",
   "execution_count": null,
   "metadata": {},
   "outputs": [],
   "source": [
    "model.save(\"CuInjSim_EmitGM_Model\")"
   ]
  },
  {
   "cell_type": "markdown",
   "metadata": {},
   "source": [
    "### 2.b Model Loading"
   ]
  },
  {
   "cell_type": "code",
   "execution_count": 48,
   "metadata": {},
   "outputs": [
    {
     "name": "stdout",
     "output_type": "stream",
     "text": [
      "_________________________________________________________________\n",
      "Layer (type)                 Output Shape              Param #   \n",
      "=================================================================\n",
      "dense_27 (Dense)             (None, 20)                280       \n",
      "_________________________________________________________________\n",
      "dense_28 (Dense)             (None, 20)                420       \n",
      "_________________________________________________________________\n",
      "dense_29 (Dense)             (None, 20)                420       \n",
      "_________________________________________________________________\n",
      "dense_30 (Dense)             (None, 20)                420       \n",
      "_________________________________________________________________\n",
      "dense_31 (Dense)             (None, 20)                420       \n",
      "_________________________________________________________________\n",
      "dense_32 (Dense)             (None, 20)                420       \n",
      "_________________________________________________________________\n",
      "dense_33 (Dense)             (None, 20)                420       \n",
      "_________________________________________________________________\n",
      "dense_34 (Dense)             (None, 20)                420       \n",
      "_________________________________________________________________\n",
      "dense_35 (Dense)             (None, 1)                 21        \n",
      "=================================================================\n",
      "Total params: 3,241\n",
      "Trainable params: 3,241\n",
      "Non-trainable params: 0\n",
      "_________________________________________________________________\n"
     ]
    }
   ],
   "source": [
    "model = tf.keras.models.load_model(\"CuInjSim_EmitGM_Model\")\n",
    "model.summary()"
   ]
  },
  {
   "cell_type": "markdown",
   "metadata": {},
   "source": [
    "### 3. Model Verification"
   ]
  },
  {
   "cell_type": "code",
   "execution_count": 49,
   "metadata": {},
   "outputs": [
    {
     "data": {
      "text/plain": [
       "((816,), (816,), (816,))"
      ]
     },
     "execution_count": 49,
     "metadata": {},
     "output_type": "execute_result"
    }
   ],
   "source": [
    "ytemppred=model.predict(X_val)\n",
    "Y_val.shape,ytemppred.shape\n",
    "\n",
    "indx=np.argsort(Y_val[:])\n",
    "ytemp=Y_val[indx]\n",
    "predtemp=ytemppred[indx,0]\n",
    "\n",
    "y_filtered=ytemp[::8]\n",
    "pred_filtered=predtemp[::8]\n",
    "\n",
    "xd=np.arange(pred_filtered.shape[0])\n",
    "\n",
    "y_filtered.shape,pred_filtered.shape,xd.shape"
   ]
  },
  {
   "cell_type": "code",
   "execution_count": 50,
   "metadata": {},
   "outputs": [
    {
     "data": {
      "text/plain": [
       "<matplotlib.legend.Legend at 0xfea1bd0>"
      ]
     },
     "execution_count": 50,
     "metadata": {},
     "output_type": "execute_result"
    },
    {
     "data": {
      "image/png": "[encoded data removed]",
      "text/plain": [
       "<Figure size 576x288 with 1 Axes>"
      ]
     },
     "metadata": {
      "needs_background": "light"
     },
     "output_type": "display_data"
    }
   ],
   "source": [
    "plt.figure(figsize=(8,4))\n",
    "#indx=np.argsort(y_val[:,0])\n",
    "plt.plot(y_filtered,'.r',label='Simulation Value')\n",
    "plt.plot(pred_filtered,'ok',alpha=0.7,label='Neural Network Prediction',markersize=4)\n",
    "#plt.errorbar(xd,pred_filtered,yerr=err_filtered,fmt='ok',capthick=2,capsize=2,alpha=0.2,label='BNN Standard Error')\n",
    "plt.xlabel('Index')\n",
    "plt.ylabel('ln($\\epsilon_x$)')\n",
    "plt.legend()\n",
    "#plt.xlim(-2,235)\n",
    "#plt.ylim(0.35,2.45)"
   ]
  },
  {
   "cell_type": "markdown",
   "metadata": {},
   "source": [
    "### 4. Model Validation and Discovery"
   ]
  },
  {
   "cell_type": "code",
   "execution_count": 62,
   "metadata": {},
   "outputs": [],
   "source": [
    "N=5000"
   ]
  },
  {
   "cell_type": "code",
   "execution_count": 51,
   "metadata": {},
   "outputs": [],
   "source": [
    "#Cluster examples to speed up computation\n",
    "background = X_train[np.random.choice(X_train.shape[0], 500, replace=False)]"
   ]
  },
  {
   "cell_type": "code",
   "execution_count": 52,
   "metadata": {},
   "outputs": [],
   "source": [
    "#Use the clustered examples to split features\n",
    "df_train_normed_summary = shap.kmeans(X_train, 25)"
   ]
  },
  {
   "cell_type": "code",
   "execution_count": 53,
   "metadata": {},
   "outputs": [],
   "source": [
    "#Instantiate general explainer\n",
    "explainer = shap.KernelExplainer(model.predict, df_train_normed_summary)"
   ]
  },
  {
   "cell_type": "code",
   "execution_count": null,
   "metadata": {},
   "outputs": [],
   "source": [
    "#Calculate Shap Values\n",
    "shap_values = explainer.shap_values(X_train[:N,:])"
   ]
  },
  {
   "cell_type": "markdown",
   "metadata": {},
   "source": [
    "Let's take a moment to look at the shap_values.\n",
    "This variable is a list, whose 1st (or zeroth) element is all we need.\n",
    "\n",
    "This element shap_values[0] is a numpy array, of dimensions (N_samples, N_features)\n",
    "So, for each sample that we passed to the explainer, it calculates the impact of each of the values of the features for that sample, over the mean.\n",
    "\n",
    "For example, shap_values[0][3,:] is a 13 dimensional vector, that looks at the 4th sample point given to the explainer. Let this vector be [1,0,0,0,0,0,0,0,0,0,0,0,-5]. This vector suggests that the prediction for this sample by the model was increased 1 unit by the value of the 0-th feature value of this sample, and was decreased by 5 units by the last feature's value for this sample. Each of these impacts is measured relative to the mean value of that feature over all the samples."
   ]
  },
  {
   "cell_type": "code",
   "execution_count": 56,
   "metadata": {},
   "outputs": [
    {
     "data": {
      "text/plain": [
       "(50, 13)"
      ]
     },
     "execution_count": 56,
     "metadata": {},
     "output_type": "execute_result"
    }
   ],
   "source": [
    "shap_values[0].shape"
   ]
  },
  {
   "cell_type": "code",
   "execution_count": 58,
   "metadata": {},
   "outputs": [
    {
     "data": {
      "text/plain": [
       "Text(0.5,0,'Global Importance of Feature')"
      ]
     },
     "execution_count": 58,
     "metadata": {},
     "output_type": "execute_result"
    },
    {
     "data": {
      "image/png": "[encoded data removed]",
      "text/plain": [
       "<Figure size 576x482.4 with 1 Axes>"
      ]
     },
     "metadata": {
      "needs_background": "light"
     },
     "output_type": "display_data"
    }
   ],
   "source": [
    "#Global Impact/Importance of each feature\n",
    "shap.summary_plot(shap_values, features=X_train[:N,:], plot_type=\"bar\", show=False)\n",
    "\n",
    "plt.xlabel(\"Global Importance of Feature\")"
   ]
  },
  {
   "cell_type": "code",
   "execution_count": 61,
   "metadata": {},
   "outputs": [
    {
     "data": {
      "text/plain": [
       "Text(0,0.5,'Impact of Feature of Prediction')"
      ]
     },
     "execution_count": 61,
     "metadata": {},
     "output_type": "execute_result"
    },
    {
     "data": {
      "image/png": "[encoded data removed]",
      "text/plain": [
       "<Figure size 576x432 with 1 Axes>"
      ]
     },
     "metadata": {
      "needs_background": "light"
     },
     "output_type": "display_data"
    }
   ],
   "source": [
    "# Looking at the impacts of individual features. \"t\" selects the t-th feature and then the plot \n",
    "# shows the impact of the impact of this feature for each of the training samples.\n",
    "# Here we are showing this for t=2, or the solenoid setting\n",
    "t=2\n",
    "plt.figure(figsize=(8,6))\n",
    "plt.scatter(X_train[:N,t],shap_values[0][:,t],s=10)\n",
    "\n",
    "plt.xlabel(\"Input Feature Value \"+\"(\"+feature_names[t]+\")\")\n",
    "plt.ylabel(\"Impact of Feature of Prediction\")\n"
   ]
  },
  {
   "cell_type": "code",
   "execution_count": null,
   "metadata": {},
   "outputs": [],
   "source": []
  },
  {
   "cell_type": "code",
   "execution_count": null,
   "metadata": {},
   "outputs": [],
   "source": []
  },
  {
   "cell_type": "code",
   "execution_count": null,
   "metadata": {},
   "outputs": [],
   "source": []
  }
 ],
 "metadata": {
  "kernelspec": {
   "display_name": "Python 2",
   "language": "python",
   "name": "python2"
  },
  "language_info": {
   "codemirror_mode": {
    "name": "ipython",
    "version": 2
   },
   "file_extension": ".py",
   "mimetype": "text/x-python",
   "name": "python",
   "nbconvert_exporter": "python",
   "pygments_lexer": "ipython2",
   "version": "2.7.5"
  }
 },
 "nbformat": 4,
 "nbformat_minor": 2
}
