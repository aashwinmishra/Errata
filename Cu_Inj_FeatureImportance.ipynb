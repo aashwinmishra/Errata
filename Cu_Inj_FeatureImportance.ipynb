{
 "cells": [
  {
   "cell_type": "code",
   "execution_count": null,
   "metadata": {},
   "outputs": [],
   "source": [
    "import scipy.io\n",
    "from os import listdir\n",
    "from os.path import isfile, join\n",
    "import pandas as pd"
   ]
  },
  {
   "cell_type": "code",
   "execution_count": null,
   "metadata": {},
   "outputs": [],
   "source": [
    "from collections import defaultdict\n",
    "\n",
    "\n",
    "from scipy.stats import spearmanr\n",
    "from scipy.cluster import hierarchy\n",
    "\n",
    "from sklearn.datasets import load_breast_cancer\n",
    "from sklearn.ensemble import RandomForestClassifier\n",
    "#from sklearn.inspection import permutation_importance\n",
    "from sklearn.model_selection import train_test_split\n",
    "\n",
    "import numpy as np\n",
    "from minepy import MINE\n",
    "import matplotlib.pyplot as plt\n",
    "%matplotlib inline"
   ]
  },
  {
   "cell_type": "code",
   "execution_count": null,
   "metadata": {},
   "outputs": [],
   "source": [
    "from sklearn.preprocessing import MinMaxScaler\n",
    "from mpl_toolkits.mplot3d import Axes3D"
   ]
  },
  {
   "cell_type": "code",
   "execution_count": null,
   "metadata": {},
   "outputs": [],
   "source": [
    "import seaborn as sns\n",
    "\n",
    "\n",
    "from sklearn.dummy import DummyRegressor\n",
    "from sklearn.isotonic import IsotonicRegression\n",
    "from sklearn.metrics import mean_absolute_error, make_scorer\n",
    "from sklearn.model_selection import cross_val_score\n",
    "from sklearn.model_selection import cross_val_predict\n",
    "\n",
    "import tensorflow as tf\n",
    "import shap\n",
    "from tensorflow.keras import Sequential\n",
    "from tensorflow.keras.layers import Dense, BatchNormalization\n",
    "from tensorflow.keras.layers import  Dropout\n",
    "from tensorflow.keras.optimizers import Adam"
   ]
  },
  {
   "cell_type": "code",
   "execution_count": null,
   "metadata": {},
   "outputs": [],
   "source": [
    "x=np.load('scalar_in.npy')\n",
    "y=np.load('scalar_out_OTR2.npy')"
   ]
  },
  {
   "cell_type": "code",
   "execution_count": null,
   "metadata": {},
   "outputs": [],
   "source": [
    "x.shape, y.shape"
   ]
  },
  {
   "cell_type": "code",
   "execution_count": null,
   "metadata": {},
   "outputs": [],
   "source": [
    "scaler = MinMaxScaler()\n",
    "scaler.fit(x)\n",
    "X=scaler.transform(x)\n",
    "print(np.min(X,axis=0))\n",
    "print(np.max(X,axis=0))"
   ]
  },
  {
   "cell_type": "code",
   "execution_count": null,
   "metadata": {},
   "outputs": [],
   "source": [
    "target_names=['n_particle', 'mean_gamma', 'sigma_gamma','norm_emit_x', 'norm_emit_y',\n",
    "'sigma_x', 'sigma_y', 'sigma_z','sigma_px', 'sigma_py', 'sigma_pz',   \n",
    "'mean_z',  'higher_order_energy_spread','cov_x__px', 'cov_z__pz', 'cov_y__py']"
   ]
  },
  {
   "cell_type": "code",
   "execution_count": null,
   "metadata": {},
   "outputs": [],
   "source": [
    "y_target=np.log(y[:,4])\n",
    "print(np.min(y_target,axis=0))\n",
    "print(np.max(y_target,axis=0))\n",
    "print(np.mean(y_target,axis=0))"
   ]
  },
  {
   "cell_type": "code",
   "execution_count": null,
   "metadata": {},
   "outputs": [],
   "source": [
    "X.shape, y_target.shape"
   ]
  },
  {
   "cell_type": "code",
   "execution_count": null,
   "metadata": {},
   "outputs": [],
   "source": [
    "X_train, X_val, Y_train, Y_val = train_test_split(X, y_target, test_size=0.2, random_state=42)\n",
    "\n",
    "X_train.shape, Y_train.shape, X_val.shape, Y_val.shape"
   ]
  },
  {
   "cell_type": "code",
   "execution_count": null,
   "metadata": {},
   "outputs": [],
   "source": [
    "temp=np.zeros((13,13))\n",
    "\n",
    "for i in range(0,13):\n",
    "    for j in range(0,13):\n",
    "        mine = MINE(alpha=0.6, c=15, est=\"mic_approx\")\n",
    "        mine.compute_score(Xb[:,i],Xb[:,j])\n",
    "        temp[i,j]= mine.mic()\n",
    "print \"done!\""
   ]
  },
  {
   "cell_type": "code",
   "execution_count": null,
   "metadata": {},
   "outputs": [],
   "source": [
    "fig, ax = plt.subplots(1, 1, figsize=(16, 16))\n",
    "im=ax.imshow(temp,cmap=\"binary\")\n",
    "ax.set_xticks(np.arange(13))\n",
    "ax.set_yticks(np.arange(13))\n",
    "# ... and label them with the respective list entries\n",
    "ax.set_xticklabels(feature_names);\n",
    "ax.set_yticklabels(feature_names);\n",
    "plt.setp(ax.get_xticklabels(), rotation=90, ha=\"right\",rotation_mode=\"anchor\");\n",
    "cbar = ax.figure.colorbar(im, ax=ax)\n",
    "#plt.show()"
   ]
  },
  {
   "cell_type": "code",
   "execution_count": null,
   "metadata": {},
   "outputs": [],
   "source": [
    "fig, (ax1) = plt.subplots(1, 1, figsize=(24, 20))\n",
    "corr_linkage = hierarchy.ward(temp)\n",
    "dendro = hierarchy.dendrogram(corr_linkage, labels=feature_names, ax=ax1, leaf_rotation=90, leaf_font_size=20)\n",
    "dendro_idx = np.arange(0, len(dendro['ivl']))\n",
    "#ax2.imshow(corr[dendro['leaves'], :][:, dendro['leaves']])\n",
    "#ax2.set_xticks(dendro_idx)\n",
    "#ax2.set_yticks(dendro_idx)\n",
    "#ax2.set_xticklabels(dendro['ivl'], rotation='vertical')\n",
    "#ax2.set_yticklabels(dendro['ivl'])\n",
    "fig.tight_layout()\n",
    "ax1.grid()\n",
    "#plt.show()"
   ]
  },
  {
   "cell_type": "code",
   "execution_count": null,
   "metadata": {},
   "outputs": [],
   "source": [
    "model=Sequential()\n",
    "model.add(Dense(20, activation='relu',input_shape=(13,)))\n",
    "model.add(Dense(20, activation='relu'))\n",
    "model.add(Dense(20, activation='relu'))\n",
    "model.add(Dense(20, activation='relu'))\n",
    "model.add(Dense(20, activation='relu'))\n",
    "model.add(Dense(20, activation='relu'))\n",
    "model.add(Dense(20, activation='relu'))\n",
    "model.add(Dense(20, activation='relu'))\n",
    "model.add(Dense(1))\n",
    "\n",
    "model.summary()"
   ]
  },
  {
   "cell_type": "code",
   "execution_count": null,
   "metadata": {},
   "outputs": [],
   "source": [
    "# Batch size\n",
    "BATCH_SIZE = 128\n",
    "\n",
    "# Number of training epochs\n",
    "EPOCHS = 5000\n",
    "\n",
    "# Learning rate\n",
    "L_RATE = 1e-5"
   ]
  },
  {
   "cell_type": "code",
   "execution_count": null,
   "metadata": {},
   "outputs": [],
   "source": [
    "model.compile(tf.keras.optimizers.Adam(lr=L_RATE),loss='mse')"
   ]
  },
  {
   "cell_type": "code",
   "execution_count": null,
   "metadata": {},
   "outputs": [],
   "source": [
    "%%time\n",
    "history = model.fit(X_train, Y_train,\n",
    "                    batch_size=BATCH_SIZE,\n",
    "                    epochs=EPOCHS,\n",
    "                    validation_data=(X_val,Y_val))"
   ]
  },
  {
   "cell_type": "code",
   "execution_count": null,
   "metadata": {},
   "outputs": [],
   "source": [
    "model.save(\"CuInjSim_xemit_Model\")"
   ]
  },
  {
   "cell_type": "code",
   "execution_count": null,
   "metadata": {},
   "outputs": [],
   "source": [
    "model = tf.keras.models.load_model(\"CuInjSim_xemit_Model\")\n",
    "model.summary()"
   ]
  },
  {
   "cell_type": "code",
   "execution_count": null,
   "metadata": {},
   "outputs": [],
   "source": [
    "ytemppred=model.predict(X_val)\n",
    "Y_val.shape,ytemppred.shape\n",
    "\n",
    "indx=np.argsort(Y_val[:])\n",
    "ytemp=Y_val[indx]\n",
    "predtemp=ytemppred[indx,0]\n",
    "\n",
    "y_filtered=ytemp[::8]\n",
    "pred_filtered=predtemp[::8]\n",
    "\n",
    "xd=np.arange(pred_filtered.shape[0])\n",
    "\n",
    "y_filtered.shape,pred_filtered.shape,xd.shape"
   ]
  },
  {
   "cell_type": "code",
   "execution_count": null,
   "metadata": {},
   "outputs": [],
   "source": [
    "plt.figure(figsize=(8,4))\n",
    "#indx=np.argsort(y_val[:,0])\n",
    "plt.plot(y_filtered,'.r',label='Simulation Value')\n",
    "plt.plot(pred_filtered,'ok',alpha=0.7,label='Neural Network Prediction',markersize=4)\n",
    "#plt.errorbar(xd,pred_filtered,yerr=err_filtered,fmt='ok',capthick=2,capsize=2,alpha=0.2,label='BNN Standard Error')\n",
    "plt.xlabel('Index')\n",
    "plt.ylabel('ln($\\epsilon_x$)')\n",
    "plt.legend()\n",
    "#plt.xlim(-2,235)\n",
    "#plt.ylim(0.35,2.45)\n",
    "#plt.savefig('CuInj_xemit_Model.pdf', bbox_inches='tight')"
   ]
  },
  {
   "cell_type": "code",
   "execution_count": null,
   "metadata": {},
   "outputs": [],
   "source": [
    "background = X_train[np.random.choice(X_train.shape[0], 500, replace=False)]"
   ]
  },
  {
   "cell_type": "code",
   "execution_count": null,
   "metadata": {},
   "outputs": [],
   "source": [
    "df_train_normed_summary = shap.kmeans(X_train, 25)"
   ]
  },
  {
   "cell_type": "code",
   "execution_count": null,
   "metadata": {},
   "outputs": [],
   "source": [
    "explainer = shap.KernelExplainer(model.predict, df_train_normed_summary)"
   ]
  },
  {
   "cell_type": "code",
   "execution_count": null,
   "metadata": {},
   "outputs": [],
   "source": [
    "shap_values = explainer.shap_values(X_train[:5000,:])"
   ]
  },
  {
   "cell_type": "code",
   "execution_count": null,
   "metadata": {},
   "outputs": [],
   "source": [
    "feature_names=['distgen:r_dist:sigma_xy:value',\n",
    " 'distgen:t_dist:length:value',\n",
    " 'SOL1:solenoid_field_scale',\n",
    " 'CQ01:b1_gradient',\n",
    " 'SQ01:b1_gradient',\n",
    " 'L0A_phase:dtheta0_deg',\n",
    " 'L0B_phase:dtheta0_deg',\n",
    " 'QA01:b1_gradient',\n",
    " 'QA02:b1_gradient',\n",
    " 'QE01:b1_gradient',\n",
    " 'QE02:b1_gradient',\n",
    " 'QE03:b1_gradient',\n",
    " 'QE04:b1_gradient']\n",
    "\n",
    "for i in range(13):\n",
    "    print(i, \" -- \", feature_names[i])"
   ]
  },
  {
   "cell_type": "code",
   "execution_count": null,
   "metadata": {},
   "outputs": [],
   "source": []
  },
  {
   "cell_type": "code",
   "execution_count": null,
   "metadata": {},
   "outputs": [],
   "source": [
    "shap.summary_plot(shap_values, features=X_train[:5000,:], plot_type=\"bar\", show=False)\n",
    "\n",
    "plt.xlabel(\"Global Importance of Feature\")"
   ]
  },
  {
   "cell_type": "code",
   "execution_count": null,
   "metadata": {},
   "outputs": [],
   "source": [
    "yp=model.predict(X_train)\n",
    "tempdiff=np.abs(yp[:,0]-Y_train)\n",
    "tmarker=np.where(tempdiff>0.6,1,0)"
   ]
  },
  {
   "cell_type": "code",
   "execution_count": null,
   "metadata": {},
   "outputs": [],
   "source": [
    "t=5\n",
    "plt.figure(figsize=(8,6))\n",
    "plt.scatter(X_train[:5000,t],shap_values[0][:,t],s=10,c=tmarker[:5000])#X_train[:5000,2])\n",
    "\n",
    "cbar = plt.colorbar()\n",
    "#cbar.ax.set_yticklabels(['0','1','2','>3'])\n",
    "#cbar.set_label('Value of Feature '+feature_names[t])\n",
    "cbar.set_label('Model Accuracy Marker')\n",
    "\n",
    "plt.xlabel(\"Input Feature Value \"+\"(\"+feature_names[t]+\")\")\n",
    "plt.ylabel(\"Impact of Feature of Prediction\")\n"
   ]
  },
  {
   "cell_type": "code",
   "execution_count": null,
   "metadata": {},
   "outputs": [],
   "source": []
  },
  {
   "cell_type": "code",
   "execution_count": null,
   "metadata": {},
   "outputs": [],
   "source": []
  }
 ],
 "metadata": {
  "kernelspec": {
   "display_name": "Python 2",
   "language": "python",
   "name": "python2"
  },
  "language_info": {
   "codemirror_mode": {
    "name": "ipython",
    "version": 2
   },
   "file_extension": ".py",
   "mimetype": "text/x-python",
   "name": "python",
   "nbconvert_exporter": "python",
   "pygments_lexer": "ipython2",
   "version": "2.7.5"
  }
 },
 "nbformat": 4,
 "nbformat_minor": 2
}
